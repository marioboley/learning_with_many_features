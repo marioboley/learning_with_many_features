{
 "cells": [
  {
   "cell_type": "markdown",
   "metadata": {},
   "source": [
    "# Notes on Learning with High Dimensional Feature Spaces\n",
    "\n",
    "### 2020 July 23 (ver 0.2)\n",
    "\n",
    "Mario Boley\n",
    "$\\newcommand{\\R}{\\mathbb{R}}\n",
    "\\newcommand{\\cM}{\\mathcal{M}}\n",
    "\\newcommand{\\range}[1]{\\mathcal{R}(#1)}\n",
    "\\newcommand{\\null}[1]{\\mathcal{N}(#1)}$"
   ]
  },
  {
   "cell_type": "markdown",
   "metadata": {},
   "source": [
    "## Setting and Math Recap\n",
    "\n",
    "Our general setting is that we are given a data matrix $X \\in \\R^{n \\times p}$ with\n",
    "\n",
    "* $n$ rows/examples/observations $X_i \\in \\R^p$\n",
    "* $p$ columns/features/predictors $(X^T)_i \\in \\R^n$\n",
    "\n",
    "as well as a target/label/response vector $y \\in \\R^n$. Furthermore, we assume that $p > n$, i.e., we have more features than observations. However, we further assume that the given set of features is unneccesarily large and that the \"true model\" of the data is sparse. That is, we assume there is a subset of features $\\cM_* \\subseteq \\{1, \\dots, p\\}$ such that the responses have been generated from the observations according to\n",
    "\n",
    "$$y_i = \\beta^T_* X_i + \\epsilon_i$$ \n",
    "\n",
    "with a sparse model vector satisfying $\\beta_{*,i} \\neq 0$ iff $i \\in \\cM_*$ and random noise $\\epsilon_i$. As we will see below, this setting occurs when we want to model an unknown relationship using a lot of speculative features.\n",
    "\n",
    "Due the noise component, there usually won't be a parameter vector $\\beta \\in \\R^n$ such that $X\\beta = y$ exactly. In the terminology of linear algebra, our response vector $y$ won't be in the **range** (column space) of the data matrix, which is denoted\n",
    "\n",
    "$$\\range{X} = \\{X\\beta : \\beta \\in \\R^N\\} \\enspace .$$\n",
    "\n",
    "So we have to settle for paramters that approximate the reponses $X\\beta \\approx y$ with some error or **residual** vector $y - X\\beta \\neq 0$. If we assume furthermore that the noise component has been sampled i.i.d. according to a normal distribution with mean zero, the maximum likelihood parameter vectors (as we will see below there can be more than one) $\\beta_\\rm{ml} \\in \\R^p$ are minimising the sum of squared residuals\n",
    "\n",
    "$$\\sum_{i=1}^n (y_i - X^T_i\\beta)^2$$\n",
    "\n",
    "which we can write in matrix/vector notation as\n",
    "\n",
    "$$\\|X\\beta - y\\|^2 = (X\\beta - y)^T(X\\beta - y) \\enspace .$$\n",
    "\n",
    "Either from basic geometric considerations are using calculus, we can find that any parameter vector that minimises this objective function must have an residual (error) vector $y - X\\beta$ that is orthogonal to the **range** (column space) of the data matrix, i.e., for all columns we must have that $((X^T)_i)^T(y - X\\beta)=0$. Combining the $n$ linear equations into one system, and using matrix notation, leads to the famous **normal equations**\n",
    "\n",
    "$$X^T X\\beta_\\rm{ls} = X^T y \\enspace .$$\n",
    "\n",
    "to describe *all* parameter vectors $\\beta_\\rm{ls}$ that minimise the least squares objective. We emphasise '*all*' here as it turns out that in our setting with $p > n$ the normal equations will have more than one solution."
   ]
  },
  {
   "cell_type": "markdown",
   "metadata": {},
   "source": [
    "## Example: Identifying the Law of Gravitation from Speculative Features\n",
    "\n",
    "As a running example, let us consider the data-driven discovery of Newton's law of universal gravitation:\n",
    "\n",
    "$$F = G\\frac{m_1 m_2}{d}$$\n",
    "\n",
    "where $F$ is the gravitational force acting between two objects, $m_1$ and $m_2$ are the masses of the first and the second object, $d$ is the distance between the centres of their masses, and $G \\approx 6.674\\times10^{-11}$ is the gravitational constant.\n",
    "\n",
    "Let's assume that we don't know yet about the graviational law, but, for great cost, we can sample a few observations of pairs of planets and can *approximately* determine the gravitational force between them. Additionally, we can determine a host of speculative features for each planetary pair that could potentially \"explain\" the magnitude of the gravitational force.\n",
    "\n",
    "The table below lists all variables we use in this example. Instead of observing real pairs of planets, we will synthetically sample some data. For each variable the table gives the distribution or formula used to obtain the corresponding value. The first three variables (position and the densities of planet 1 and 2) are latent, i.e., they are used to compute values of the observed features (and will cause some correlation between them) but they will not be directly accessible by our model. The feature variables are numbered according to their column index in the data matrix. \n",
    "\n",
    "| Feature | Variable | &nbsp;&nbsp;&nbsp;Symbol&nbsp;&nbsp;&nbsp; | &nbsp;&nbsp;&nbsp;&nbsp;&nbsp;&nbsp;&nbsp;Unit&nbsp;&nbsp;&nbsp;&nbsp;&nbsp;&nbsp;&nbsp; | Distribution/Formula | &nbsp;&nbsp;&nbsp;&nbsp;&nbsp;&nbsp;$\\beta_*$&nbsp;&nbsp;&nbsp;&nbsp;&nbsp;&nbsp; |\n",
    "| :- | :- | :-: | :-: | :-: | :-: |\n",
    "| - | *position* | $p_1$, $p_2$ | $\\rm{m}\\times\\rm{m}\\times\\rm{m}$ | $U(C_L)$ | - | \n",
    "| - | *density 1, 2* | $\\rho_1$, $\\rho_2$ | $\\rm{kg}/\\rm{m}^3$ | $\\rm{Exp}(1/\\rho_{\\text{trr}})$ | - |\n",
    "| - | grav. force | $F$ | $\\rm{kg}~\\rm{m} / \\rm{s}^2$ | $G m_1 m_2 / d^2$ | - |\n",
    "| $1$ | constant | $\\rm{1}$ | - | $\\delta_e$ | $\\ln G$ |\n",
    "| $2$, $3$ | mass 1, 2 | $m_1$, $m_2$ | $\\rm{kg}$ | $(4/3)\\pi r^3 \\rho$ |  $1$, $1$ |\n",
    "| $4$ | $L_2$-dist | $d$ | $\\rm{m}$ | $\\|p_1-p_2\\|_2$ | $-2$ |\n",
    "| $5$ | $L_1$-dist | $d_1$ | $\\rm{m}$ | $\\|p_1-p_2\\|_1$ | $0$ |\n",
    "| $6$ | $L_3$-dist | $d_3$ | $\\rm{m}$ | $\\|p_1-p_2\\|_3$ | $0$ |\n",
    "| $7$ | $L_\\infty$-dist | $d_\\infty$ | $\\rm{m}$ | $\\|p_1-p_2\\|_\\infty$ | $0$ |\n",
    "| $8$, $9$ | radius 1, 2| $r_1$, $r_2$ | $\\rm{m}$ | $\\rm{Exp}(1/r_{\\text{trr}})$ | $0$, $0$ |\n",
    "| $10$, $11$ | atm. pressure 1, 2 | $P_1$, $P_2$ | $\\rm{kg}~/~\\rm{m}~\\rm{s}^2$ | $\\rm{Exp}(1/P_{\\text{trr}})$ | $0$, $0$ |\n",
    "| $12$, $13$ | inertia 1, 2 | $\\rm{in}_1$, $\\rm{in}_2$ | - | $\\rm{Beta}(2, 2)$ | $0$, $0$ | \n",
    "| $14$, $15$ | tilt 1, 2 | $\\rm{tl}_1$, $\\rm{tl}_2$ | radians | $\\pi \\rm{Beta}(5, 2)$ | $0$, $0$ |\n",
    "| $16$, $17$ | flattening 1, 2 | $\\rm{fl}_1$, $\\rm{fl}_2$ | - | $\\rm{Beta}(1, 10)$ | $0$, $0$ |\n",
    "| $18$, $19$ | rotation 1, 2 | $\\rm{rt}_1$, $\\rm{rt}_2$ | $\\rm{s}$ | $\\rm{Exp}(1/\\rm{rot}_{\\text{trr}})$ | $0$, $0$ |\n",
    "| $20$ | mass sum | $m_1\\!+\\!m_2$ | $\\rm{kg}$ | $m_1 + m_2$ | $0$ |\n",
    "| $21$ | radius sum | $r_1\\!+\\!r_2$ | $\\rm{m}$ | $r_1 + r_2$ | $0$ |\n",
    "| $22$ | pressure sum | $P_1\\!+\\!P_2$ | $\\rm{kg}~/~\\rm{m}~\\rm{s}^2$ | $P_1 + P_2$ | $0$ |\n",
    "| $23$ | tilt sum | $\\rm{tl}_1\\!+\\!\\rm{tl}_2$ | radians | $\\rm{tl}_1+\\rm{tl}_2$ | $0$ |\n",
    "| $24$ | rotation sum | $\\rm{rt}_1\\!+\\!\\rm{rt}_2$ | radians | $\\rm{rt}_1+\\rm{rt}_1$ | $0$ |\n",
    "| $25$ | mass abs diff | $|m_1\\!-\\!m_2|$ | $\\rm{kg}$ | $m_1 + m_2$ | $0$ |\n",
    "| $26$ | radius abs diff | $|r_1\\!-\\!r_2|$ | $\\rm{m}$ | $r_1 + r_2$ | $0$ |\n",
    "| $27$ | pressure abs diff | $|P_1\\!-\\!P_2|$ | $\\rm{kg}~/~\\rm{m}~\\rm{s}^2$ | $P_1 + P_2$ | $0$ |\n",
    "| $28$ | tilt abs diff | $|\\rm{tl}_1\\!-\\!\\rm{tl}_2|$ | radians | $\\rm{tl}_1+\\rm{tl}_2$ | $0$ |\n",
    "| $29$ | rotation abs diff | $|\\rm{rt}_1\\!-\\!\\rm{rt}_1|$ | radians | $\\rm{rt}_1+\\rm{rt}_1$ | $0$ |\n",
    "\n",
    "We are going to fit a regression model with parameters $\\beta \\in \\R^{n}$ with $n=29$ parameters of the multiplicative form:\n",
    "\n",
    "$$F = \\epsilon \\prod_{j=1}^p f^{\\beta_j}_j \\enspace $$\n",
    "\n",
    "where $\\epsilon\\sim \\ln \\rm{N}(0, 0.25)$ is a log-normal multiplicative noise term. In order to make this problem amenable to linear modelling we apply a log transform to our response and feature vectors and fit the log linear form:\n",
    "\n",
    "$$\\ln F = \\ln \\epsilon + \\sum_{j=1}^p \\beta_i f_i \\enspace .$$\n",
    "\n",
    "With this transformation, the gravitational law becomes\n",
    "\n",
    "$$\\ln F = \\ln G + \\ln m_1 + \\ln m_2 - 2\\ln d$$\n",
    "\n",
    "and the true model is $\\cM_* = \\{1, 2, 3, 4\\}$ with parameters $\\beta_*=(\\log G, 1, 1, -2)^T$."
   ]
  },
  {
   "cell_type": "code",
   "execution_count": 1,
   "metadata": {},
   "outputs": [
    {
     "data": {
      "text/html": [
       "<div>\n",
       "<style scoped>\n",
       "    .dataframe tbody tr th:only-of-type {\n",
       "        vertical-align: middle;\n",
       "    }\n",
       "\n",
       "    .dataframe tbody tr th {\n",
       "        vertical-align: top;\n",
       "    }\n",
       "\n",
       "    .dataframe thead th {\n",
       "        text-align: right;\n",
       "    }\n",
       "</style>\n",
       "<table border=\"1\" class=\"dataframe\">\n",
       "  <thead>\n",
       "    <tr style=\"text-align: right;\">\n",
       "      <th></th>\n",
       "      <th>F</th>\n",
       "      <th>1</th>\n",
       "      <th>m1</th>\n",
       "      <th>m2</th>\n",
       "      <th>d_2</th>\n",
       "      <th>d_1</th>\n",
       "      <th>d_3</th>\n",
       "      <th>d_inf</th>\n",
       "      <th>r1</th>\n",
       "      <th>r2</th>\n",
       "      <th>...</th>\n",
       "      <th>m1+m2</th>\n",
       "      <th>r1+r2</th>\n",
       "      <th>p1+p2</th>\n",
       "      <th>tlt1+tlt2</th>\n",
       "      <th>rot1+rot2</th>\n",
       "      <th>|m1-m2|</th>\n",
       "      <th>|r1-r2|</th>\n",
       "      <th>|p1-p2|</th>\n",
       "      <th>|tlt1-tlt2|</th>\n",
       "      <th>|rot1-rot2|</th>\n",
       "    </tr>\n",
       "  </thead>\n",
       "  <tbody>\n",
       "    <tr>\n",
       "      <th>0</th>\n",
       "      <td>34.519073</td>\n",
       "      <td>1.0</td>\n",
       "      <td>46.412003</td>\n",
       "      <td>59.394283</td>\n",
       "      <td>24.015789</td>\n",
       "      <td>24.472727</td>\n",
       "      <td>23.889915</td>\n",
       "      <td>23.753327</td>\n",
       "      <td>12.528055</td>\n",
       "      <td>16.784705</td>\n",
       "      <td>...</td>\n",
       "      <td>59.394285</td>\n",
       "      <td>16.798776</td>\n",
       "      <td>4.982815</td>\n",
       "      <td>1.433807</td>\n",
       "      <td>9.897935</td>\n",
       "      <td>59.394280</td>\n",
       "      <td>16.770434</td>\n",
       "      <td>3.528265</td>\n",
       "      <td>0.221046</td>\n",
       "      <td>9.452535</td>\n",
       "    </tr>\n",
       "    <tr>\n",
       "      <th>1</th>\n",
       "      <td>33.412329</td>\n",
       "      <td>1.0</td>\n",
       "      <td>47.474580</td>\n",
       "      <td>55.614238</td>\n",
       "      <td>23.031964</td>\n",
       "      <td>23.567870</td>\n",
       "      <td>22.862089</td>\n",
       "      <td>22.668015</td>\n",
       "      <td>12.842717</td>\n",
       "      <td>16.194743</td>\n",
       "      <td>...</td>\n",
       "      <td>55.614529</td>\n",
       "      <td>16.229158</td>\n",
       "      <td>5.410931</td>\n",
       "      <td>1.215185</td>\n",
       "      <td>11.919650</td>\n",
       "      <td>55.613946</td>\n",
       "      <td>16.159102</td>\n",
       "      <td>4.766469</td>\n",
       "      <td>0.524435</td>\n",
       "      <td>10.766972</td>\n",
       "    </tr>\n",
       "    <tr>\n",
       "      <th>2</th>\n",
       "      <td>31.149526</td>\n",
       "      <td>1.0</td>\n",
       "      <td>53.944793</td>\n",
       "      <td>50.520351</td>\n",
       "      <td>25.029798</td>\n",
       "      <td>25.481282</td>\n",
       "      <td>24.902507</td>\n",
       "      <td>24.730759</td>\n",
       "      <td>14.461840</td>\n",
       "      <td>13.528262</td>\n",
       "      <td>...</td>\n",
       "      <td>53.976841</td>\n",
       "      <td>14.793403</td>\n",
       "      <td>4.351436</td>\n",
       "      <td>1.360594</td>\n",
       "      <td>10.816453</td>\n",
       "      <td>53.911683</td>\n",
       "      <td>13.962375</td>\n",
       "      <td>4.261629</td>\n",
       "      <td>0.223452</td>\n",
       "      <td>9.823261</td>\n",
       "    </tr>\n",
       "    <tr>\n",
       "      <th>3</th>\n",
       "      <td>33.996860</td>\n",
       "      <td>1.0</td>\n",
       "      <td>54.427235</td>\n",
       "      <td>52.501992</td>\n",
       "      <td>24.972961</td>\n",
       "      <td>25.487340</td>\n",
       "      <td>24.819597</td>\n",
       "      <td>24.662431</td>\n",
       "      <td>14.570883</td>\n",
       "      <td>14.527676</td>\n",
       "      <td>...</td>\n",
       "      <td>54.563373</td>\n",
       "      <td>15.242660</td>\n",
       "      <td>4.880131</td>\n",
       "      <td>1.393494</td>\n",
       "      <td>13.179950</td>\n",
       "      <td>54.269598</td>\n",
       "      <td>11.407620</td>\n",
       "      <td>2.732548</td>\n",
       "      <td>-0.655375</td>\n",
       "      <td>11.659883</td>\n",
       "    </tr>\n",
       "    <tr>\n",
       "      <th>4</th>\n",
       "      <td>33.648570</td>\n",
       "      <td>1.0</td>\n",
       "      <td>52.145210</td>\n",
       "      <td>53.819012</td>\n",
       "      <td>24.433418</td>\n",
       "      <td>24.544255</td>\n",
       "      <td>24.429874</td>\n",
       "      <td>24.429721</td>\n",
       "      <td>14.040259</td>\n",
       "      <td>14.978255</td>\n",
       "      <td>...</td>\n",
       "      <td>53.990890</td>\n",
       "      <td>15.308574</td>\n",
       "      <td>5.895330</td>\n",
       "      <td>1.675696</td>\n",
       "      <td>12.116174</td>\n",
       "      <td>53.611333</td>\n",
       "      <td>14.481643</td>\n",
       "      <td>4.905458</td>\n",
       "      <td>-3.043778</td>\n",
       "      <td>12.050207</td>\n",
       "    </tr>\n",
       "    <tr>\n",
       "      <th>5</th>\n",
       "      <td>40.129094</td>\n",
       "      <td>1.0</td>\n",
       "      <td>56.730054</td>\n",
       "      <td>57.322005</td>\n",
       "      <td>25.268440</td>\n",
       "      <td>25.639316</td>\n",
       "      <td>25.206849</td>\n",
       "      <td>25.189068</td>\n",
       "      <td>15.853412</td>\n",
       "      <td>15.954369</td>\n",
       "      <td>...</td>\n",
       "      <td>57.762353</td>\n",
       "      <td>16.598311</td>\n",
       "      <td>5.965137</td>\n",
       "      <td>1.620874</td>\n",
       "      <td>11.106601</td>\n",
       "      <td>56.516257</td>\n",
       "      <td>13.611251</td>\n",
       "      <td>3.579237</td>\n",
       "      <td>-0.263956</td>\n",
       "      <td>10.777914</td>\n",
       "    </tr>\n",
       "    <tr>\n",
       "      <th>6</th>\n",
       "      <td>35.669595</td>\n",
       "      <td>1.0</td>\n",
       "      <td>53.873923</td>\n",
       "      <td>55.220822</td>\n",
       "      <td>24.837929</td>\n",
       "      <td>25.379087</td>\n",
       "      <td>24.662712</td>\n",
       "      <td>24.426023</td>\n",
       "      <td>15.260380</td>\n",
       "      <td>15.091379</td>\n",
       "      <td>...</td>\n",
       "      <td>55.451970</td>\n",
       "      <td>15.872592</td>\n",
       "      <td>6.664440</td>\n",
       "      <td>1.775869</td>\n",
       "      <td>12.347444</td>\n",
       "      <td>54.919655</td>\n",
       "      <td>13.399219</td>\n",
       "      <td>6.464854</td>\n",
       "      <td>-2.156930</td>\n",
       "      <td>11.973608</td>\n",
       "    </tr>\n",
       "    <tr>\n",
       "      <th>7</th>\n",
       "      <td>43.617969</td>\n",
       "      <td>1.0</td>\n",
       "      <td>57.797785</td>\n",
       "      <td>59.282488</td>\n",
       "      <td>24.854915</td>\n",
       "      <td>25.101278</td>\n",
       "      <td>24.833689</td>\n",
       "      <td>24.831111</td>\n",
       "      <td>17.142539</td>\n",
       "      <td>16.159829</td>\n",
       "      <td>...</td>\n",
       "      <td>59.486710</td>\n",
       "      <td>17.460480</td>\n",
       "      <td>5.940050</td>\n",
       "      <td>1.407663</td>\n",
       "      <td>10.853381</td>\n",
       "      <td>59.025569</td>\n",
       "      <td>16.673662</td>\n",
       "      <td>5.241046</td>\n",
       "      <td>-1.121058</td>\n",
       "      <td>8.881077</td>\n",
       "    </tr>\n",
       "    <tr>\n",
       "      <th>8</th>\n",
       "      <td>33.050087</td>\n",
       "      <td>1.0</td>\n",
       "      <td>53.166878</td>\n",
       "      <td>53.068229</td>\n",
       "      <td>24.927842</td>\n",
       "      <td>25.353457</td>\n",
       "      <td>24.828282</td>\n",
       "      <td>24.768565</td>\n",
       "      <td>14.746333</td>\n",
       "      <td>14.580812</td>\n",
       "      <td>...</td>\n",
       "      <td>53.811917</td>\n",
       "      <td>15.360141</td>\n",
       "      <td>5.695782</td>\n",
       "      <td>1.605708</td>\n",
       "      <td>11.636826</td>\n",
       "      <td>50.801774</td>\n",
       "      <td>12.866057</td>\n",
       "      <td>5.678177</td>\n",
       "      <td>-1.266688</td>\n",
       "      <td>11.194696</td>\n",
       "    </tr>\n",
       "    <tr>\n",
       "      <th>9</th>\n",
       "      <td>30.020770</td>\n",
       "      <td>1.0</td>\n",
       "      <td>58.582497</td>\n",
       "      <td>44.839901</td>\n",
       "      <td>25.021748</td>\n",
       "      <td>25.542848</td>\n",
       "      <td>24.866692</td>\n",
       "      <td>24.736970</td>\n",
       "      <td>16.544031</td>\n",
       "      <td>11.959959</td>\n",
       "      <td>...</td>\n",
       "      <td>58.582498</td>\n",
       "      <td>16.554192</td>\n",
       "      <td>5.960476</td>\n",
       "      <td>1.234323</td>\n",
       "      <td>11.753480</td>\n",
       "      <td>58.582496</td>\n",
       "      <td>16.533765</td>\n",
       "      <td>5.193460</td>\n",
       "      <td>0.582239</td>\n",
       "      <td>11.507112</td>\n",
       "    </tr>\n",
       "    <tr>\n",
       "      <th>10</th>\n",
       "      <td>48.045972</td>\n",
       "      <td>1.0</td>\n",
       "      <td>59.819733</td>\n",
       "      <td>59.266622</td>\n",
       "      <td>23.873309</td>\n",
       "      <td>24.259417</td>\n",
       "      <td>23.773120</td>\n",
       "      <td>23.689311</td>\n",
       "      <td>16.074009</td>\n",
       "      <td>16.957156</td>\n",
       "      <td>...</td>\n",
       "      <td>60.274088</td>\n",
       "      <td>17.303210</td>\n",
       "      <td>5.064088</td>\n",
       "      <td>1.393208</td>\n",
       "      <td>12.321330</td>\n",
       "      <td>58.963697</td>\n",
       "      <td>16.423608</td>\n",
       "      <td>-0.997515</td>\n",
       "      <td>0.177317</td>\n",
       "      <td>11.264076</td>\n",
       "    </tr>\n",
       "    <tr>\n",
       "      <th>11</th>\n",
       "      <td>32.776571</td>\n",
       "      <td>1.0</td>\n",
       "      <td>47.994763</td>\n",
       "      <td>58.518479</td>\n",
       "      <td>25.091093</td>\n",
       "      <td>25.170043</td>\n",
       "      <td>25.088690</td>\n",
       "      <td>25.088578</td>\n",
       "      <td>13.078696</td>\n",
       "      <td>16.010257</td>\n",
       "      <td>...</td>\n",
       "      <td>58.518506</td>\n",
       "      <td>16.062198</td>\n",
       "      <td>4.746256</td>\n",
       "      <td>1.230205</td>\n",
       "      <td>8.955735</td>\n",
       "      <td>58.518452</td>\n",
       "      <td>15.955469</td>\n",
       "      <td>4.446902</td>\n",
       "      <td>-0.712601</td>\n",
       "      <td>8.825817</td>\n",
       "    </tr>\n",
       "    <tr>\n",
       "      <th>12</th>\n",
       "      <td>40.740429</td>\n",
       "      <td>1.0</td>\n",
       "      <td>54.370113</td>\n",
       "      <td>59.424869</td>\n",
       "      <td>24.796119</td>\n",
       "      <td>25.219061</td>\n",
       "      <td>24.704613</td>\n",
       "      <td>24.661565</td>\n",
       "      <td>14.645602</td>\n",
       "      <td>16.334203</td>\n",
       "      <td>...</td>\n",
       "      <td>59.431228</td>\n",
       "      <td>16.503759</td>\n",
       "      <td>3.697160</td>\n",
       "      <td>1.619773</td>\n",
       "      <td>10.240746</td>\n",
       "      <td>59.418470</td>\n",
       "      <td>16.129909</td>\n",
       "      <td>2.969324</td>\n",
       "      <td>-1.333893</td>\n",
       "      <td>8.156494</td>\n",
       "    </tr>\n",
       "    <tr>\n",
       "      <th>13</th>\n",
       "      <td>40.132756</td>\n",
       "      <td>1.0</td>\n",
       "      <td>56.000763</td>\n",
       "      <td>57.705215</td>\n",
       "      <td>25.180228</td>\n",
       "      <td>25.530380</td>\n",
       "      <td>25.068888</td>\n",
       "      <td>24.918346</td>\n",
       "      <td>17.143814</td>\n",
       "      <td>15.984119</td>\n",
       "      <td>...</td>\n",
       "      <td>57.872315</td>\n",
       "      <td>17.416572</td>\n",
       "      <td>5.830131</td>\n",
       "      <td>1.506180</td>\n",
       "      <td>12.318372</td>\n",
       "      <td>57.504479</td>\n",
       "      <td>16.767545</td>\n",
       "      <td>5.644646</td>\n",
       "      <td>-0.803446</td>\n",
       "      <td>11.745810</td>\n",
       "    </tr>\n",
       "    <tr>\n",
       "      <th>14</th>\n",
       "      <td>35.369617</td>\n",
       "      <td>1.0</td>\n",
       "      <td>52.660440</td>\n",
       "      <td>56.994327</td>\n",
       "      <td>25.114299</td>\n",
       "      <td>25.566043</td>\n",
       "      <td>25.006815</td>\n",
       "      <td>24.947546</td>\n",
       "      <td>14.591323</td>\n",
       "      <td>15.403521</td>\n",
       "      <td>...</td>\n",
       "      <td>57.007358</td>\n",
       "      <td>15.770856</td>\n",
       "      <td>4.141985</td>\n",
       "      <td>1.607296</td>\n",
       "      <td>12.313807</td>\n",
       "      <td>56.981123</td>\n",
       "      <td>14.816747</td>\n",
       "      <td>4.032905</td>\n",
       "      <td>-1.958810</td>\n",
       "      <td>11.852383</td>\n",
       "    </tr>\n",
       "    <tr>\n",
       "      <th>15</th>\n",
       "      <td>34.934309</td>\n",
       "      <td>1.0</td>\n",
       "      <td>50.824336</td>\n",
       "      <td>57.752063</td>\n",
       "      <td>24.993714</td>\n",
       "      <td>25.399748</td>\n",
       "      <td>24.885700</td>\n",
       "      <td>24.783664</td>\n",
       "      <td>13.877881</td>\n",
       "      <td>16.365679</td>\n",
       "      <td>...</td>\n",
       "      <td>57.753042</td>\n",
       "      <td>16.445500</td>\n",
       "      <td>4.745158</td>\n",
       "      <td>1.585011</td>\n",
       "      <td>12.392034</td>\n",
       "      <td>57.751082</td>\n",
       "      <td>16.278931</td>\n",
       "      <td>4.227680</td>\n",
       "      <td>-0.393611</td>\n",
       "      <td>7.847228</td>\n",
       "    </tr>\n",
       "    <tr>\n",
       "      <th>16</th>\n",
       "      <td>36.836614</td>\n",
       "      <td>1.0</td>\n",
       "      <td>57.138940</td>\n",
       "      <td>52.286498</td>\n",
       "      <td>24.587740</td>\n",
       "      <td>25.058264</td>\n",
       "      <td>24.463444</td>\n",
       "      <td>24.367801</td>\n",
       "      <td>15.721215</td>\n",
       "      <td>14.589839</td>\n",
       "      <td>...</td>\n",
       "      <td>57.146719</td>\n",
       "      <td>16.000806</td>\n",
       "      <td>4.013824</td>\n",
       "      <td>1.216706</td>\n",
       "      <td>11.577209</td>\n",
       "      <td>57.131100</td>\n",
       "      <td>15.331738</td>\n",
       "      <td>2.149780</td>\n",
       "      <td>0.169073</td>\n",
       "      <td>10.206552</td>\n",
       "    </tr>\n",
       "    <tr>\n",
       "      <th>17</th>\n",
       "      <td>30.748300</td>\n",
       "      <td>1.0</td>\n",
       "      <td>48.363251</td>\n",
       "      <td>56.735118</td>\n",
       "      <td>25.304341</td>\n",
       "      <td>25.743123</td>\n",
       "      <td>25.181836</td>\n",
       "      <td>25.028207</td>\n",
       "      <td>13.369245</td>\n",
       "      <td>15.644390</td>\n",
       "      <td>...</td>\n",
       "      <td>56.735349</td>\n",
       "      <td>15.742227</td>\n",
       "      <td>5.017948</td>\n",
       "      <td>1.497302</td>\n",
       "      <td>9.519468</td>\n",
       "      <td>56.734887</td>\n",
       "      <td>15.535934</td>\n",
       "      <td>4.676577</td>\n",
       "      <td>-0.125430</td>\n",
       "      <td>8.622574</td>\n",
       "    </tr>\n",
       "    <tr>\n",
       "      <th>18</th>\n",
       "      <td>37.984531</td>\n",
       "      <td>1.0</td>\n",
       "      <td>54.432711</td>\n",
       "      <td>57.066788</td>\n",
       "      <td>25.055130</td>\n",
       "      <td>25.539824</td>\n",
       "      <td>24.931135</td>\n",
       "      <td>24.862681</td>\n",
       "      <td>14.928085</td>\n",
       "      <td>15.505176</td>\n",
       "      <td>...</td>\n",
       "      <td>57.136114</td>\n",
       "      <td>15.950842</td>\n",
       "      <td>6.274451</td>\n",
       "      <td>1.288838</td>\n",
       "      <td>12.515106</td>\n",
       "      <td>56.992296</td>\n",
       "      <td>14.680714</td>\n",
       "      <td>4.840098</td>\n",
       "      <td>-1.982739</td>\n",
       "      <td>10.879869</td>\n",
       "    </tr>\n",
       "    <tr>\n",
       "      <th>19</th>\n",
       "      <td>32.223682</td>\n",
       "      <td>1.0</td>\n",
       "      <td>50.947426</td>\n",
       "      <td>55.197622</td>\n",
       "      <td>25.230603</td>\n",
       "      <td>25.464345</td>\n",
       "      <td>25.211859</td>\n",
       "      <td>25.209755</td>\n",
       "      <td>14.229202</td>\n",
       "      <td>15.230395</td>\n",
       "      <td>...</td>\n",
       "      <td>55.211783</td>\n",
       "      <td>15.543336</td>\n",
       "      <td>5.140014</td>\n",
       "      <td>1.346494</td>\n",
       "      <td>11.660086</td>\n",
       "      <td>55.183258</td>\n",
       "      <td>14.772413</td>\n",
       "      <td>4.967790</td>\n",
       "      <td>-0.447995</td>\n",
       "      <td>11.375715</td>\n",
       "    </tr>\n",
       "  </tbody>\n",
       "</table>\n",
       "<p>20 rows × 30 columns</p>\n",
       "</div>"
      ],
      "text/plain": [
       "            F    1         m1         m2        d_2        d_1        d_3  \\\n",
       "0   34.519073  1.0  46.412003  59.394283  24.015789  24.472727  23.889915   \n",
       "1   33.412329  1.0  47.474580  55.614238  23.031964  23.567870  22.862089   \n",
       "2   31.149526  1.0  53.944793  50.520351  25.029798  25.481282  24.902507   \n",
       "3   33.996860  1.0  54.427235  52.501992  24.972961  25.487340  24.819597   \n",
       "4   33.648570  1.0  52.145210  53.819012  24.433418  24.544255  24.429874   \n",
       "5   40.129094  1.0  56.730054  57.322005  25.268440  25.639316  25.206849   \n",
       "6   35.669595  1.0  53.873923  55.220822  24.837929  25.379087  24.662712   \n",
       "7   43.617969  1.0  57.797785  59.282488  24.854915  25.101278  24.833689   \n",
       "8   33.050087  1.0  53.166878  53.068229  24.927842  25.353457  24.828282   \n",
       "9   30.020770  1.0  58.582497  44.839901  25.021748  25.542848  24.866692   \n",
       "10  48.045972  1.0  59.819733  59.266622  23.873309  24.259417  23.773120   \n",
       "11  32.776571  1.0  47.994763  58.518479  25.091093  25.170043  25.088690   \n",
       "12  40.740429  1.0  54.370113  59.424869  24.796119  25.219061  24.704613   \n",
       "13  40.132756  1.0  56.000763  57.705215  25.180228  25.530380  25.068888   \n",
       "14  35.369617  1.0  52.660440  56.994327  25.114299  25.566043  25.006815   \n",
       "15  34.934309  1.0  50.824336  57.752063  24.993714  25.399748  24.885700   \n",
       "16  36.836614  1.0  57.138940  52.286498  24.587740  25.058264  24.463444   \n",
       "17  30.748300  1.0  48.363251  56.735118  25.304341  25.743123  25.181836   \n",
       "18  37.984531  1.0  54.432711  57.066788  25.055130  25.539824  24.931135   \n",
       "19  32.223682  1.0  50.947426  55.197622  25.230603  25.464345  25.211859   \n",
       "\n",
       "        d_inf         r1         r2  ...      m1+m2      r1+r2     p1+p2  \\\n",
       "0   23.753327  12.528055  16.784705  ...  59.394285  16.798776  4.982815   \n",
       "1   22.668015  12.842717  16.194743  ...  55.614529  16.229158  5.410931   \n",
       "2   24.730759  14.461840  13.528262  ...  53.976841  14.793403  4.351436   \n",
       "3   24.662431  14.570883  14.527676  ...  54.563373  15.242660  4.880131   \n",
       "4   24.429721  14.040259  14.978255  ...  53.990890  15.308574  5.895330   \n",
       "5   25.189068  15.853412  15.954369  ...  57.762353  16.598311  5.965137   \n",
       "6   24.426023  15.260380  15.091379  ...  55.451970  15.872592  6.664440   \n",
       "7   24.831111  17.142539  16.159829  ...  59.486710  17.460480  5.940050   \n",
       "8   24.768565  14.746333  14.580812  ...  53.811917  15.360141  5.695782   \n",
       "9   24.736970  16.544031  11.959959  ...  58.582498  16.554192  5.960476   \n",
       "10  23.689311  16.074009  16.957156  ...  60.274088  17.303210  5.064088   \n",
       "11  25.088578  13.078696  16.010257  ...  58.518506  16.062198  4.746256   \n",
       "12  24.661565  14.645602  16.334203  ...  59.431228  16.503759  3.697160   \n",
       "13  24.918346  17.143814  15.984119  ...  57.872315  17.416572  5.830131   \n",
       "14  24.947546  14.591323  15.403521  ...  57.007358  15.770856  4.141985   \n",
       "15  24.783664  13.877881  16.365679  ...  57.753042  16.445500  4.745158   \n",
       "16  24.367801  15.721215  14.589839  ...  57.146719  16.000806  4.013824   \n",
       "17  25.028207  13.369245  15.644390  ...  56.735349  15.742227  5.017948   \n",
       "18  24.862681  14.928085  15.505176  ...  57.136114  15.950842  6.274451   \n",
       "19  25.209755  14.229202  15.230395  ...  55.211783  15.543336  5.140014   \n",
       "\n",
       "    tlt1+tlt2  rot1+rot2    |m1-m2|    |r1-r2|   |p1-p2|  |tlt1-tlt2|  \\\n",
       "0    1.433807   9.897935  59.394280  16.770434  3.528265     0.221046   \n",
       "1    1.215185  11.919650  55.613946  16.159102  4.766469     0.524435   \n",
       "2    1.360594  10.816453  53.911683  13.962375  4.261629     0.223452   \n",
       "3    1.393494  13.179950  54.269598  11.407620  2.732548    -0.655375   \n",
       "4    1.675696  12.116174  53.611333  14.481643  4.905458    -3.043778   \n",
       "5    1.620874  11.106601  56.516257  13.611251  3.579237    -0.263956   \n",
       "6    1.775869  12.347444  54.919655  13.399219  6.464854    -2.156930   \n",
       "7    1.407663  10.853381  59.025569  16.673662  5.241046    -1.121058   \n",
       "8    1.605708  11.636826  50.801774  12.866057  5.678177    -1.266688   \n",
       "9    1.234323  11.753480  58.582496  16.533765  5.193460     0.582239   \n",
       "10   1.393208  12.321330  58.963697  16.423608 -0.997515     0.177317   \n",
       "11   1.230205   8.955735  58.518452  15.955469  4.446902    -0.712601   \n",
       "12   1.619773  10.240746  59.418470  16.129909  2.969324    -1.333893   \n",
       "13   1.506180  12.318372  57.504479  16.767545  5.644646    -0.803446   \n",
       "14   1.607296  12.313807  56.981123  14.816747  4.032905    -1.958810   \n",
       "15   1.585011  12.392034  57.751082  16.278931  4.227680    -0.393611   \n",
       "16   1.216706  11.577209  57.131100  15.331738  2.149780     0.169073   \n",
       "17   1.497302   9.519468  56.734887  15.535934  4.676577    -0.125430   \n",
       "18   1.288838  12.515106  56.992296  14.680714  4.840098    -1.982739   \n",
       "19   1.346494  11.660086  55.183258  14.772413  4.967790    -0.447995   \n",
       "\n",
       "    |rot1-rot2|  \n",
       "0      9.452535  \n",
       "1     10.766972  \n",
       "2      9.823261  \n",
       "3     11.659883  \n",
       "4     12.050207  \n",
       "5     10.777914  \n",
       "6     11.973608  \n",
       "7      8.881077  \n",
       "8     11.194696  \n",
       "9     11.507112  \n",
       "10    11.264076  \n",
       "11     8.825817  \n",
       "12     8.156494  \n",
       "13    11.745810  \n",
       "14    11.852383  \n",
       "15     7.847228  \n",
       "16    10.206552  \n",
       "17     8.622574  \n",
       "18    10.879869  \n",
       "19    11.375715  \n",
       "\n",
       "[20 rows x 30 columns]"
      ]
     },
     "execution_count": 1,
     "metadata": {},
     "output_type": "execute_result"
    }
   ],
   "source": [
    "import pandas as pd\n",
    "from numpy import log\n",
    "from math import pi, e\n",
    "from random import uniform, expovariate, lognormvariate, betavariate\n",
    "import random\n",
    "random.seed(25)\n",
    "\n",
    "LN_NOISE_VAR=0.25\n",
    "G = 6.674e-11 #Graviational constant\n",
    "BOX_LENGTH=1e11\n",
    "MU_RADIUS=6371000\n",
    "MU_DENSITY=5515\n",
    "\n",
    "def vol(r): return 4/3*pi*r**3\n",
    "\n",
    "def observation():\n",
    "    x1, y1, z1 = uniform(-BOX_LENGTH/2, BOX_LENGTH/2), uniform(-BOX_LENGTH/2, BOX_LENGTH/2), uniform(-BOX_LENGTH/2, BOX_LENGTH/2)\n",
    "    x2, y2, z2 = uniform(-BOX_LENGTH/2, BOX_LENGTH/2), uniform(-BOX_LENGTH/2, BOX_LENGTH/2), uniform(-BOX_LENGTH/2, BOX_LENGTH/2)\n",
    "    d_2 = ((x1-x2)**2+(y1-y2)**2+(z1-z2)**2)**0.5\n",
    "    r1, r2 = expovariate(1/MU_RADIUS), expovariate(1/MU_RADIUS)\n",
    "    rho1, rho2 = expovariate(1/MU_DENSITY), expovariate(1/MU_DENSITY)\n",
    "    m1, m2 = vol(r1)*rho1, vol(r2)*rho2\n",
    "    p1, p2 = expovariate(1/101.325), expovariate(1/101.325)\n",
    "    in1, in2 = betavariate(2, 2), betavariate(2, 2)\n",
    "    tilt1, tilt2 = pi*betavariate(5, 2), pi*betavariate(5, 2)\n",
    "    fl1, fl2 = betavariate(1, 10), betavariate(1, 10)\n",
    "    rot1, rot2 = expovariate(1/(24*3600)), expovariate(1/(24*3600))\n",
    "    eps = lognormvariate(0, LN_NOISE_VAR)\n",
    "    return {'F' : eps*G*m1*m2/d_2**2, '1': e, 'm1' : m1, 'm2' : m2, 'd_2': d_2,\n",
    "            'd_1': abs(x1-x2)+abs(y1-y2)+abs(z1-z2), 'd_3': (abs(x1-x2)**3+abs(y1-y2)**3+abs(z1-z2)**3)**(1/3),\n",
    "            'd_inf': max(abs(x1-x2), abs(y1-y2), abs(z1-z2)), 'r1': r1, 'r2': r2, 'p1': p1, 'p2': p2,\n",
    "            'in1': in1, 'in2': in2, 'tlt1': tilt1, 'tlt2': tilt2, 'fl1' : fl1, 'fl2' : fl2, 'rot1': rot1, 'rot2': rot2,\n",
    "            'm1+m2': m1+m2, 'r1+r2': r1+r2, 'p1+p2': p1+p2, 'tlt1+tlt2': tilt1+tilt2, 'rot1+rot2': rot1+rot2, \n",
    "            '|m1-m2|': abs(m1-m2), '|r1-r2|': abs(r1-r2), '|p1-p2|': abs(p1-p2), '|tlt1-tlt2|': abs(tilt1-tilt2),\n",
    "            '|rot1-rot2|': abs(rot1-rot2)}\n",
    "    \n",
    "planets = pd.DataFrame([observation() for i in range(20)])\n",
    "planets = planets.apply(log)\n",
    "planets"
   ]
  },
  {
   "cell_type": "markdown",
   "metadata": {},
   "source": [
    "It turns out that these meagre $20$ observations are enough to approximately reconstruct the graviational law provided that we select the true model (variables). Unsurprisingly, this model does not only fit our initial observations almost perfectly but also any number of new test observations that we generate with the same process."
   ]
  },
  {
   "cell_type": "code",
   "execution_count": 14,
   "metadata": {},
   "outputs": [
    {
     "data": {
      "text/plain": [
       "(array([-21.72,   1.01,   0.98,  -2.06]),\n",
       " 0.9976201347175359,\n",
       " 0.9983336845844253)"
      ]
     },
     "execution_count": 14,
     "metadata": {},
     "output_type": "execute_result"
    }
   ],
   "source": [
    "import numpy as np\n",
    "\n",
    "from numpy.linalg import solve\n",
    "from numpy import mean as mu\n",
    "from numpy import transpose as t\n",
    "\n",
    "X = planets.iloc[:, 1:5]\n",
    "y = planets.F\n",
    "\n",
    "beta = solve(t(X)@X, t(X)@y)\n",
    "\n",
    "test = pd.DataFrame([observation() for i in range(100)])\n",
    "test = test.apply(log)\n",
    "X_test = test.iloc[:, 1:5]\n",
    "y_test = test.F\n",
    "\n",
    "mse_train = sum((X@beta - y)**2)\n",
    "var_train = sum((y - mu(y))**2)\n",
    "score_train = (1-mse_train/var_train)\n",
    "\n",
    "mse_test = sum((X_test@beta - y_test)**2)\n",
    "var_test = sum((y_test - mu(y_test))**2)\n",
    "score_test = (1-mse_test/var_test)\n",
    "\n",
    "np.around(beta, 2), score_train, score_test"
   ]
  },
  {
   "cell_type": "markdown",
   "metadata": {},
   "source": [
    "So the model roughly fitted the right exponents for $m_1$ ($1$), $m_2$ ($1$), and $d$ ($-2$), and also the intercept term, i.e., its guess for the gravitational constant appears somewhat reasonable:"
   ]
  },
  {
   "cell_type": "code",
   "execution_count": 15,
   "metadata": {},
   "outputs": [
    {
     "data": {
      "text/plain": [
       "(-23.43021664260532, -21.717774331021985)"
      ]
     },
     "execution_count": 15,
     "metadata": {},
     "output_type": "execute_result"
    }
   ],
   "source": [
    "log(G), beta[0]"
   ]
  },
  {
   "cell_type": "code",
   "execution_count": 3,
   "metadata": {},
   "outputs": [
    {
     "data": {
      "image/png": "[encoded data removed]",
      "text/plain": [
       "<Figure size 432x288 with 1 Axes>"
      ]
     },
     "metadata": {
      "needs_background": "light"
     },
     "output_type": "display_data"
    }
   ],
   "source": [
    "from matplotlib import pyplot as plt\n",
    "\n",
    "plt.scatter(X_test@beta, y_test, marker='.')\n",
    "plt.xlabel(r'$\\hat{y}$')\n",
    "plt.ylabel('$y$')\n",
    "plt.show()"
   ]
  },
  {
   "cell_type": "markdown",
   "metadata": {},
   "source": [
    "In contrast, if we don't perform variable selection, and just solve the least squares problem on the complete data matrix, we end up with a model that doesn't only look like gibberish, but that also has a strongly deterioated performance on our test observations. Note that still fits the original training observations well. So what happened here is the well known *overfitting* phenomenon."
   ]
  },
  {
   "cell_type": "code",
   "execution_count": 4,
   "metadata": {},
   "outputs": [
    {
     "data": {
      "text/plain": [
       "(array([ 1.52187746e+02,  7.96914388e-01, -3.17296043e-01, -3.53365962e+00,\n",
       "        -2.19795437e+00,  2.22645737e+00, -7.32375520e-01,  1.32383415e+00,\n",
       "         2.49005733e+00, -8.27642290e-02, -2.37443080e+00,  6.31307088e-02,\n",
       "         4.12787114e+00,  3.74515175e+01,  4.04236678e+01,  5.62010218e-01,\n",
       "         1.97759582e-01, -2.11014542e+00, -3.16734790e+00, -8.78035209e-01,\n",
       "         7.16410115e-02,  4.02068356e+00, -8.93026292e+01,  6.01614736e+00,\n",
       "         1.07323038e+00, -1.42164425e+00, -4.23250572e-01,  7.57341038e-01,\n",
       "        -2.48882975e+00]),\n",
       " 1.0,\n",
       " -0.7027143439299679)"
      ]
     },
     "execution_count": 4,
     "metadata": {},
     "output_type": "execute_result"
    }
   ],
   "source": [
    "X = planets.drop(columns=['F'])\n",
    "X_test = test.drop(columns=['F'])\n",
    "\n",
    "beta = solve(t(X)@X, t(X)@y)\n",
    "\n",
    "mse = sum((X@beta - y)**2)\n",
    "var = sum((y - mu(y))**2)\n",
    "score = (1-mse/var)\n",
    "\n",
    "mse_test = sum((X_test@beta - y_test)**2)\n",
    "var_test = sum((y_test - mu(y_test))**2)\n",
    "score_test = (1-mse_test/var_test)\n",
    "\n",
    "beta, score, score_test"
   ]
  },
  {
   "cell_type": "code",
   "execution_count": 5,
   "metadata": {},
   "outputs": [
    {
     "data": {
      "image/png": "[encoded data removed]",
      "text/plain": [
       "<Figure size 432x288 with 1 Axes>"
      ]
     },
     "metadata": {
      "needs_background": "light"
     },
     "output_type": "display_data"
    }
   ],
   "source": [
    "plt.scatter(X_test@beta, y_test, marker='.')\n",
    "plt.xlabel(r'$\\hat{y}$')\n",
    "plt.ylabel('$y$')\n",
    "plt.show()"
   ]
  },
  {
   "cell_type": "markdown",
   "metadata": {},
   "source": [
    "## Least Angle Regression\n",
    "\n",
    "Absent prior knowledge about the true variables, we have to use variable selection methods to try to automatically find the right sub-model for us.\n",
    "\n",
    "One candidate for that is Least Angle Regression (LARS, Efron, Bradley, et al. \"Least angle regression.\" The Annals of statistics 32.2 (2004): 407-499), of which an implementation is available in scikit-learn (https://scikit-learn.org/stable/modules/linear_model.html#least-angle-regression).\n",
    "\n",
    "LARS is a *forward (stepwise) selection* method that, at a given step, selects the variable(s) most correlated with the current residuals and moves the parameter in a direction equiangular (hence the name of the method) to all those features.\n",
    "\n",
    "With this process, features enter the regression one at a time. So one can easily select the number of features in the model."
   ]
  },
  {
   "cell_type": "code",
   "execution_count": 16,
   "metadata": {},
   "outputs": [
    {
     "data": {
      "text/plain": [
       "([('1', -42.39883894613902),\n",
       "  ('m1', 0.9),\n",
       "  ('m2', 1.0),\n",
       "  ('d_inf', -1.0),\n",
       "  ('|p1-p2|', -0.1)],\n",
       " 0.9870332082983609,\n",
       " 0.9891093498875387)"
      ]
     },
     "execution_count": 16,
     "metadata": {},
     "output_type": "execute_result"
    }
   ],
   "source": [
    "from sklearn.linear_model import Lars\n",
    "\n",
    "X = planets.iloc[:,1:]\n",
    "X_test = test.iloc[:,1:]\n",
    "\n",
    "lars = Lars(n_nonzero_coefs=4, fit_intercept=True, normalize=False)\n",
    "lars.fit(X,y)\n",
    "\n",
    "[('1', lars.intercept_)]+[(f, w) for (f,w) in zip(X, np.around(lars.coef_, 1)) if w != 0], lars.score(X, y), lars.score(X_test, y_test)"
   ]
  },
  {
   "cell_type": "code",
   "execution_count": 17,
   "metadata": {},
   "outputs": [
    {
     "data": {
      "image/png": "[encoded data removed]",
      "text/plain": [
       "<Figure size 432x288 with 1 Axes>"
      ]
     },
     "metadata": {
      "needs_background": "light"
     },
     "output_type": "display_data"
    }
   ],
   "source": [
    "plt.scatter(lars.predict(X_test), y_test, marker='.')\n",
    "plt.xlabel(r'$\\hat{y}$')\n",
    "plt.ylabel('$y$')\n",
    "plt.show()"
   ]
  },
  {
   "cell_type": "code",
   "execution_count": 21,
   "metadata": {},
   "outputs": [
    {
     "data": {
      "text/plain": [
       "([('1', -61.32020910060821), ('m1', 0.9), ('m2', 0.9), ('|p1-p2|', -0.2)],\n",
       " 0.9451528733487466,\n",
       " 0.9641756358772379)"
      ]
     },
     "execution_count": 21,
     "metadata": {},
     "output_type": "execute_result"
    }
   ],
   "source": [
    "lars = Lars(n_nonzero_coefs=3, fit_intercept=True, normalize=False)\n",
    "lars.fit(X,y)\n",
    "\n",
    "[('1', lars.intercept_)]+[(f, w) for (f,w) in zip(X, np.around(lars.coef_, 1)) if w != 0], lars.score(X, y), lars.score(X_test, y_test)"
   ]
  },
  {
   "cell_type": "code",
   "execution_count": 23,
   "metadata": {},
   "outputs": [
    {
     "data": {
      "text/plain": [
       "([('1', -33.02310414443656),\n",
       "  ('m1', 1.0),\n",
       "  ('m2', 1.0),\n",
       "  ('d_1', -0.4),\n",
       "  ('d_inf', -1.0),\n",
       "  ('|p1-p2|', -0.1)],\n",
       " 0.9949849677142688,\n",
       " 0.9952971356252818)"
      ]
     },
     "execution_count": 23,
     "metadata": {},
     "output_type": "execute_result"
    }
   ],
   "source": [
    "lars = Lars(n_nonzero_coefs=5, fit_intercept=True, normalize=False)\n",
    "lars.fit(X,y)\n",
    "\n",
    "[('1', lars.intercept_)]+[(f, w) for (f,w) in zip(X, np.around(lars.coef_, 1)) if w != 0], lars.score(X, y), lars.score(X_test, y_test)"
   ]
  },
  {
   "cell_type": "code",
   "execution_count": 29,
   "metadata": {},
   "outputs": [
    {
     "data": {
      "text/plain": [
       "([('1', -26.792172732432036),\n",
       "  ('m1', 1.0),\n",
       "  ('m2', 1.0),\n",
       "  ('d_1', -0.6),\n",
       "  ('d_3', -0.6),\n",
       "  ('d_inf', -0.8),\n",
       "  ('p1', -0.1),\n",
       "  ('p2', 0.1),\n",
       "  ('fl2', -0.1),\n",
       "  ('rot1', -0.1),\n",
       "  ('rot2', 0.1),\n",
       "  ('|p1-p2|', -0.1)],\n",
       " 0.9991595917366347,\n",
       " 0.9960473607061516)"
      ]
     },
     "execution_count": 29,
     "metadata": {},
     "output_type": "execute_result"
    }
   ],
   "source": [
    "lars = Lars(n_nonzero_coefs=15, fit_intercept=True, normalize=False)\n",
    "lars.fit(X,y)\n",
    "\n",
    "[('1', lars.intercept_)]+[(f, w) for (f,w) in zip(X, np.around(lars.coef_, 1)) if w != 0], lars.score(X, y), lars.score(X_test, y_test)"
   ]
  },
  {
   "cell_type": "markdown",
   "metadata": {},
   "source": [
    "## Orthogonal Matching Pursuit"
   ]
  },
  {
   "cell_type": "code",
   "execution_count": 32,
   "metadata": {
    "scrolled": true
   },
   "outputs": [
    {
     "data": {
      "text/plain": [
       "([('1', -25.788936003311214),\n",
       "  ('m1', 1.0),\n",
       "  ('m2', 1.0),\n",
       "  ('d_inf', -1.9),\n",
       "  ('p2', 0.1),\n",
       "  ('fl2', -0.1),\n",
       "  ('rot1', -0.1),\n",
       "  ('|p1-p2|', -0.1)],\n",
       " 0.9979479124692323,\n",
       " 0.9940364831656081)"
      ]
     },
     "execution_count": 32,
     "metadata": {},
     "output_type": "execute_result"
    }
   ],
   "source": [
    "from sklearn.linear_model import OrthogonalMatchingPursuit\n",
    "\n",
    "X = planets.iloc[:,1:]\n",
    "X_test = test.iloc[:,1:]\n",
    "\n",
    "omp = OrthogonalMatchingPursuit(8, fit_intercept=True, normalize=False)\n",
    "omp.fit(X, y)\n",
    "\n",
    "omp.predict(X_test)\n",
    "\n",
    "[('1', omp.intercept_)]+[(f, w) for (f,w) in zip(X, np.around(omp.coef_, 1)) if w != 0], omp.score(X, y), omp.score(X_test, y_test)"
   ]
  },
  {
   "cell_type": "code",
   "execution_count": 33,
   "metadata": {},
   "outputs": [
    {
     "data": {
      "image/png": "[encoded data removed]",
      "text/plain": [
       "<Figure size 432x288 with 1 Axes>"
      ]
     },
     "metadata": {
      "needs_background": "light"
     },
     "output_type": "display_data"
    }
   ],
   "source": [
    "plt.scatter(omp.predict(X_test), y_test, marker='.')\n",
    "plt.xlabel(r'$\\hat{y}$')\n",
    "plt.ylabel('$y$')\n",
    "plt.show()"
   ]
  },
  {
   "cell_type": "markdown",
   "metadata": {},
   "source": [
    "## Sure Independent Screening (SIS)\n",
    "\n",
    "The Sure Independent Screening (SIS) approach is to find subset of columns (submodel)\n",
    "\n",
    "$$\\cM_\\gamma = \\{i: (X^Ty)_i \\text{ among } \\lfloor \\gamma n \\rfloor \\text{ largest components of } X^Ty\\}$$\n",
    "\n",
    "That is, we bring the number of predictors down to (a fraction $\\gamma \\in (0,1]$ of) the number of observations and can then fit a model without the problems of numerical instability.\n",
    "\n",
    "The sure screening property says that\n",
    "\n",
    "$$\\Pr(\\cM_* \\subseteq \\cM_\\gamma) \\rightarrow 1 \\enspace \\text{ as } n \\rightarrow \\infty$$\n",
    "\n",
    "(presumably for fixed $p/n$) where $\\cM_* \\subseteq \\{1, \\dots, p\\}$ is assumed to be the true model according to which the data has been generated. That is, $y = \\beta^T_* x + \\epsilon$ with $\\beta_i \\neq 0$ iff $i \\in \\cM_*$."
   ]
  },
  {
   "cell_type": "markdown",
   "metadata": {},
   "source": [
    "We discussed the correlation coefficient\n",
    "$$r_{x,y} = \\frac{s_{x,y}}{s_x s_y}$$\n"
   ]
  },
  {
   "cell_type": "code",
   "execution_count": 34,
   "metadata": {},
   "outputs": [
    {
     "data": {
      "text/plain": [
       "[('r1+r2', 0.7061035246552009),\n",
       " ('m1+m2', 0.6031971753294267),\n",
       " ('m2', 0.594596916440197),\n",
       " ('r2', 0.5864864419591892),\n",
       " ('m1', 0.5830402208952368),\n",
       " ('r1', 0.5618953212073293),\n",
       " ('|p1-p2|', -0.5256349230199306),\n",
       " ('|m1-m2|', 0.4549299590203335),\n",
       " ('p1', 0.343838818726205),\n",
       " ('rot2', 0.29788676511867995),\n",
       " ('|r1-r2|', 0.27405272451598234),\n",
       " ('fl2', 0.26094436600368354),\n",
       " ('tlt1', 0.25441058122691),\n",
       " ('d_1', -0.20893885472549256),\n",
       " ('d_2', -0.18534280641765505),\n",
       " ('rot1+rot2', 0.17319992625886965),\n",
       " ('d_3', -0.16501900817657075),\n",
       " ('tlt1+tlt2', 0.14810101595206668),\n",
       " ('rot1', 0.13530882747707368),\n",
       " ('d_inf', -0.12721334140315768),\n",
       " ('p2', -0.115864045264944),\n",
       " ('tlt2', -0.11302235677537463),\n",
       " ('|tlt1-tlt2|', -0.09944752733984287),\n",
       " ('fl1', -0.06209655928607456),\n",
       " ('p1+p2', 0.056732747209843774),\n",
       " ('in2', -0.04969875349663308),\n",
       " ('|rot1-rot2|', -0.032958713265406996),\n",
       " ('in1', 0.005932734939915125)]"
      ]
     },
     "execution_count": 34,
     "metadata": {},
     "output_type": "execute_result"
    }
   ],
   "source": [
    "cor = [(feat, planets.F.corr(X[feat])) for feat in X.iloc[:,1:]]\n",
    "ranking = sorted(cor, key=lambda c: abs(c[1]), reverse=True)\n",
    "ranking"
   ]
  },
  {
   "cell_type": "code",
   "execution_count": 35,
   "metadata": {},
   "outputs": [
    {
     "data": {
      "text/plain": [
       "([('1', -17.5),\n",
       "  ('r1+r2', -3.0),\n",
       "  ('m1+m2', 0.9),\n",
       "  ('m2', -0.2),\n",
       "  ('r2', 3.6),\n",
       "  ('m1', 1.0),\n",
       "  ('r1', 1.0),\n",
       "  ('|p1-p2|', 0.8),\n",
       "  ('|m1-m2|', 0.5),\n",
       "  ('p1', -0.5),\n",
       "  ('rot2', -1.0),\n",
       "  ('|r1-r2|', -0.1),\n",
       "  ('fl2', -0.6),\n",
       "  ('tlt1', 4.9),\n",
       "  ('d_1', 17.5),\n",
       "  ('d_2', -47.5),\n",
       "  ('rot1+rot2', 3.3),\n",
       "  ('d_3', 26.2),\n",
       "  ('tlt1+tlt2', -8.7),\n",
       "  ('rot1', -2.1)],\n",
       " 1.0,\n",
       " 0.7888957182905002)"
      ]
     },
     "execution_count": 35,
     "metadata": {},
     "output_type": "execute_result"
    }
   ],
   "source": [
    "sis_features = [f for (f, _) in ranking[:19]]\n",
    "\n",
    "X = planets.filter(items=['1']+sis_features)\n",
    "X_test = test.filter(items=['1']+sis_features)\n",
    "\n",
    "beta = solve(X, y)\n",
    "\n",
    "mse = sum((y - X@beta)**2)\n",
    "score = (1 - mse/var)**0.5\n",
    "\n",
    "mse_test = sum((y_test - X_test@beta)**2)\n",
    "score_test = (1 - mse_test/var_test)**0.5\n",
    "\n",
    "[(f, w) for (f, w) in zip(['1']+sis_features, np.around(beta, 1))], score, score_test"
   ]
  },
  {
   "cell_type": "code",
   "execution_count": 36,
   "metadata": {},
   "outputs": [
    {
     "data": {
      "image/png": "[encoded data removed]",
      "text/plain": [
       "<Figure size 432x288 with 1 Axes>"
      ]
     },
     "metadata": {
      "needs_background": "light"
     },
     "output_type": "display_data"
    }
   ],
   "source": [
    "plt.scatter(X_test@beta, y_test)\n",
    "plt.xlabel(r'$\\hat{y}$')\n",
    "plt.ylabel('$y$')\n",
    "plt.show()"
   ]
  },
  {
   "cell_type": "code",
   "execution_count": 37,
   "metadata": {},
   "outputs": [
    {
     "data": {
      "text/plain": [
       "([('1', -20.715657124431644),\n",
       "  ('m2', 1.0),\n",
       "  ('m1', 1.0),\n",
       "  ('|p1-p2|', -0.1),\n",
       "  ('fl2', -0.1),\n",
       "  ('d_3', -2.1),\n",
       "  ('rot1', -0.1)],\n",
       " 0.9983828085816475,\n",
       " 0.9959963498103234)"
      ]
     },
     "execution_count": 37,
     "metadata": {},
     "output_type": "execute_result"
    }
   ],
   "source": [
    "from sklearn.linear_model import OrthogonalMatchingPursuit\n",
    "\n",
    "X = planets.filter(items=sis_features)\n",
    "X_test = test.filter(items=sis_features)\n",
    "\n",
    "omp = OrthogonalMatchingPursuit(8, fit_intercept=True, normalize=False)\n",
    "omp.fit(X, y)\n",
    "\n",
    "omp.predict(X_test)\n",
    "\n",
    "[('1', omp.intercept_)]+[(f, w) for (f,w) in zip(sis_features, np.around(omp.coef_, 1)) if w != 0], omp.score(X, y), omp.score(X_test, y_test)"
   ]
  },
  {
   "cell_type": "code",
   "execution_count": 38,
   "metadata": {},
   "outputs": [
    {
     "data": {
      "image/png": "[encoded data removed]",
      "text/plain": [
       "<Figure size 432x288 with 1 Axes>"
      ]
     },
     "metadata": {
      "needs_background": "light"
     },
     "output_type": "display_data"
    }
   ],
   "source": [
    "plt.scatter(omp.predict(X_test), y_test)\n",
    "plt.xlabel(r'$\\hat{y}$')\n",
    "plt.ylabel('$y$')\n",
    "plt.show()"
   ]
  },
  {
   "cell_type": "code",
   "execution_count": 39,
   "metadata": {},
   "outputs": [
    {
     "data": {
      "text/plain": [
       "[1,\n",
       " 2,\n",
       " 19,\n",
       " 24,\n",
       " 7,\n",
       " 8,\n",
       " 26,\n",
       " 20,\n",
       " 18,\n",
       " 9,\n",
       " 25,\n",
       " 23,\n",
       " 17,\n",
       " 16,\n",
       " 6,\n",
       " 5,\n",
       " 3,\n",
       " 4,\n",
       " 27,\n",
       " 13,\n",
       " 21,\n",
       " 15,\n",
       " 10,\n",
       " 22,\n",
       " 12,\n",
       " 14,\n",
       " 0,\n",
       " 11]"
      ]
     },
     "execution_count": 39,
     "metadata": {},
     "output_type": "execute_result"
    }
   ],
   "source": [
    "from numpy import identity\n",
    "from numpy.linalg import inv, solve\n",
    "\n",
    "X = planets.drop(columns=['F'])\n",
    "X_test = test.drop(columns=['F'])\n",
    "\n",
    "I = identity(X.shape[1])\n",
    "\n",
    "beta = solve(t(X)@X + 1000*I, t(X)@y)\n",
    "beta\n",
    "sorted(range(28), key=lambda i: abs(beta[i]), reverse=True)"
   ]
  },
  {
   "cell_type": "code",
   "execution_count": 40,
   "metadata": {},
   "outputs": [
    {
     "data": {
      "text/plain": [
       "array([ 0.        ,  0.71229551,  0.8255447 ,  0.        ,  0.        ,\n",
       "        0.        ,  0.        ,  0.        ,  0.        ,  0.        ,\n",
       "        0.        ,  0.        ,  0.        ,  0.        ,  0.        ,\n",
       "        0.        ,  0.        ,  0.        ,  0.        , -0.8405156 ,\n",
       "        0.        ,  0.        ,  0.        ,  0.        ,  0.        ,\n",
       "        0.        ,  0.        ,  0.        ,  0.        ])"
      ]
     },
     "execution_count": 40,
     "metadata": {},
     "output_type": "execute_result"
    }
   ],
   "source": [
    "from sklearn.linear_model import OrthogonalMatchingPursuit\n",
    "\n",
    "omp = OrthogonalMatchingPursuit(3, fit_intercept=False, normalize=False)\n",
    "omp.fit(X,y)\n",
    "omp.coef_"
   ]
  },
  {
   "cell_type": "code",
   "execution_count": 41,
   "metadata": {},
   "outputs": [
    {
     "data": {
      "text/plain": [
       "array([ 0.        ,  0.6969881 ,  0.81312064,  0.        ,  0.        ,\n",
       "        0.        ,  0.        ,  0.        ,  0.        ,  0.        ,\n",
       "        0.        ,  0.        ,  0.        ,  0.        ,  0.        ,\n",
       "        0.        ,  0.        ,  0.        ,  0.        , -0.81488412,\n",
       "        0.        ,  0.        ,  0.        ,  0.        ,  0.        ,\n",
       "        0.        ,  0.        ,  0.        ,  0.        ])"
      ]
     },
     "execution_count": 41,
     "metadata": {},
     "output_type": "execute_result"
    }
   ],
   "source": [
    "from sklearn.linear_model import Lars\n",
    "\n",
    "lars = Lars(n_nonzero_coefs=4, fit_intercept=False, normalize=False)\n",
    "lars.fit(X,y)\n",
    "lars.coef_"
   ]
  },
  {
   "cell_type": "markdown",
   "metadata": {},
   "source": [
    "## Problems for Solving the Least Squares Objective\n",
    "\n",
    "Usually, we are happy to express the solution of the least squares objective as $\\beta_\\rm{LS}=(X^TX)^{-1}X^Ty$. **However, this assumes that the gram matrix $X^T X \\in \\R^{p \\times p}$ of inner products of the feature vectors is invertible and in our setting $p > n$ this cannot be true (why?).**\n",
    "\n",
    "In fact, this doesn't only happen when $p > n$ but also when we simple have linearly dependent columns. Let's fix a simple $2 \\times 2$ example where this is the case."
   ]
  },
  {
   "cell_type": "code",
   "execution_count": 42,
   "metadata": {},
   "outputs": [
    {
     "data": {
      "text/plain": [
       "(array([[ 5, -5],\n",
       "        [-5,  5]]),\n",
       " array([ 3, -3]),\n",
       " array([ 0.3, -0.3]))"
      ]
     },
     "execution_count": 42,
     "metadata": {},
     "output_type": "execute_result"
    }
   ],
   "source": [
    "import numpy as np\n",
    "from numpy import array as m\n",
    "from numpy import transpose as t\n",
    "from numpy.linalg import pinv\n",
    "\n",
    "X = m([[2, -2],\n",
    "       [-1, 1]])\n",
    "\n",
    "y = m([2, 1])\n",
    "\n",
    "G = t(X)@X\n",
    "G, t(X)@y, pinv(X)@y"
   ]
  },
  {
   "cell_type": "code",
   "execution_count": 43,
   "metadata": {
    "scrolled": false
   },
   "outputs": [
    {
     "data": {
      "image/png": "[encoded data removed]",
      "text/plain": [
       "<Figure size 432x288 with 1 Axes>"
      ]
     },
     "metadata": {
      "needs_background": "light"
     },
     "output_type": "display_data"
    }
   ],
   "source": [
    "xx = np.linspace(-2, 2, 100)\n",
    "yy_rX = X[1, 0]/X[0, 0] * xx\n",
    "yy_rG = G[1, 0]/G[0, 0] * xx\n",
    "\n",
    "fig, ax = plt.subplots()\n",
    "ax.set_aspect('equal')\n",
    "plt.plot(xx, yy_rX, label='$\\mathcal{R}(X)$')\n",
    "plt.plot(xx, yy_rG, label='$\\mathcal{R}(X^TX)$')\n",
    "plt.plot(xx, xx, label=r'$\\mathcal{N}(X^TX)=\\mathcal{N}(X)$', color='orange', linestyle='--')\n",
    "plt.legend()\n",
    "plt.xlabel('$y_1$')\n",
    "plt.ylabel('$y_2$')\n",
    "plt.ylim(-2,2)\n",
    "plt.show()"
   ]
  },
  {
   "cell_type": "markdown",
   "metadata": {},
   "source": [
    "However, that does not mean that our least squares problem cannot be solved. **The normal equations always have a solution (why?)**. Our problem is that there are many (a whole subspace of) solutions.\n",
    "\n",
    "Let's fix response vector $y = (2, 1)^T$. Computing $X^T y = (3, -3)^T$, we end up with the following normal equations:\n",
    "\n",
    "$$\n",
    "\\begin{pmatrix}\n",
    "5 & -5 \\\\\n",
    "-5 & 5\n",
    "\\end{pmatrix}\n",
    "\\beta =\n",
    "\\begin{pmatrix}\n",
    "3\\\\\n",
    "-3\n",
    "\\end{pmatrix}\n",
    "$$\n",
    "\n",
    "Using one step of elimination we get \n",
    "\n",
    "$$\n",
    "\\begin{pmatrix}\n",
    "5 & -5 \\\\\n",
    "0 & 0\n",
    "\\end{pmatrix}\n",
    "\\beta =\n",
    "\\begin{pmatrix}\n",
    "3\\\\\n",
    "0\n",
    "\\end{pmatrix}\n",
    "$$\n",
    "\n",
    "and see that for our example we have that $5\\beta_1 - 5\\beta_2 = 3$ and, thus, $\\beta_1 = \\beta_2 + 0.6$. \n",
    "\n",
    "That means that our solutions are a line (affine subspace) corresponding to the null space of the gram matrix $\\null{X^T X}$ shifted by an arbitrary solution $\\beta_0$. Indeed, we can observe that all $\\beta$ on the line \n",
    "$\\left\\{\n",
    "\\begin{pmatrix}\n",
    "0.6\\\\\n",
    "0\n",
    "\\end{pmatrix}\n",
    "+ \\alpha \n",
    "\\begin{pmatrix}\n",
    "1\\\\\n",
    "1\n",
    "\\end{pmatrix}\n",
    ": \\alpha \\in \\R\n",
    "\\right\\}$ \n",
    "have the same (minimal) sum of squared errors.\n",
    "\n",
    "So ultimately we have to choose a solution. One reasonable choice is to go for the **minimum norm solution**, i.e., the uniquely defined parameter vector $\\beta_\\rm{mnls}$ with $X^TX \\beta_\\rm{mnls} = X^T y$ and $\\|\\beta_\\rm{mnls}\\|_2^2 \\leq \\|\\beta\\|_2^2$ for all $\\beta$ with $X^TX \\beta = X^T y$.\n"
   ]
  },
  {
   "cell_type": "code",
   "execution_count": 44,
   "metadata": {},
   "outputs": [
    {
     "data": {
      "image/png": "[encoded data removed]",
      "text/plain": [
       "<Figure size 432x288 with 1 Axes>"
      ]
     },
     "metadata": {
      "needs_background": "light"
     },
     "output_type": "display_data"
    }
   ],
   "source": [
    "fig, ax = plt.subplots()\n",
    "ax.set_aspect('equal')\n",
    "plt.plot(xx, -xx, label='$\\mathcal{R}(X^TX)$')\n",
    "plt.plot(xx, xx - 0.6, label=r'$\\{\\beta: X^TX\\beta=(3, -3)^T\\}$')\n",
    "plt.plot(xx, xx, label = r'$\\mathcal{N}(X^TX)=\\mathcal{N}(X)$', color='orange', linestyle='--')\n",
    "ax.annotate(r'$\\beta_{\\mathrm{mnls}}$', xy=(0.3,-0.3), xytext=(1, -0.3), \n",
    "            arrowprops=dict(facecolor='black', headlength=5, headwidth=5, width=1, shrink=10))\n",
    "plt.legend()\n",
    "plt.xlabel('$y_1$')\n",
    "plt.ylabel('$y_2$')\n",
    "plt.ylim(-2,2)\n",
    "plt.xlim(-2,2)\n",
    "plt.show()"
   ]
  },
  {
   "cell_type": "markdown",
   "metadata": {},
   "source": [
    "This solution of the normal equation is produced by the **pseudo-inverse** $(X^TX)^+$, i.e.,\n",
    "$\\beta_\\rm{mnls}=(X^TX)^+X^Ty$."
   ]
  },
  {
   "cell_type": "code",
   "execution_count": 45,
   "metadata": {},
   "outputs": [
    {
     "data": {
      "text/plain": [
       "(array([[ 0.05, -0.05],\n",
       "        [-0.05,  0.05]]),\n",
       " array([ 0.3, -0.3]))"
      ]
     },
     "execution_count": 45,
     "metadata": {},
     "output_type": "execute_result"
    }
   ],
   "source": [
    "from numpy.linalg import pinv\n",
    "\n",
    "y = m([2, 1])\n",
    "\n",
    "pinv(G), pinv(G)@t(X)@y"
   ]
  }
 ],
 "metadata": {
  "kernelspec": {
   "display_name": "Python 3",
   "language": "python",
   "name": "python3"
  },
  "language_info": {
   "codemirror_mode": {
    "name": "ipython",
    "version": 3
   },
   "file_extension": ".py",
   "mimetype": "text/x-python",
   "name": "python",
   "nbconvert_exporter": "python",
   "pygments_lexer": "ipython3",
   "version": "3.7.7"
  }
 },
 "nbformat": 4,
 "nbformat_minor": 4
}
